{
  "nbformat": 4,
  "nbformat_minor": 0,
  "metadata": {
    "colab": {
      "provenance": [],
      "authorship_tag": "ABX9TyOnYr1N196vimCqf1VZTdZT",
      "include_colab_link": true
    },
    "kernelspec": {
      "name": "python3",
      "display_name": "Python 3"
    },
    "language_info": {
      "name": "python"
    }
  },
  "cells": [
    {
      "cell_type": "markdown",
      "metadata": {
        "id": "view-in-github",
        "colab_type": "text"
      },
      "source": [
        "<a href=\"https://colab.research.google.com/github/RudraKhare/British-Airways-Internship/blob/main/British_Airways_Customer_Behaviour.ipynb\" target=\"_parent\"><img src=\"https://colab.research.google.com/assets/colab-badge.svg\" alt=\"Open In Colab\"/></a>"
      ]
    },
    {
      "cell_type": "markdown",
      "source": [
        "# Task 2 - Predict customer buying behaviour"
      ],
      "metadata": {
        "id": "j3U6_5B1ZfvF"
      }
    },
    {
      "cell_type": "code",
      "execution_count": 46,
      "metadata": {
        "id": "gZZbSHSTNY_3"
      },
      "outputs": [],
      "source": [
        "import pandas as pd\n",
        "import numpy as np\n",
        "import matplotlib.pyplot as plt\n",
        "import seaborn as sns\n",
        "\n",
        "import warnings\n",
        "warnings.filterwarnings(\"ignore\") # Ignore RuntimeWarning\n"
      ]
    },
    {
      "cell_type": "code",
      "source": [
        "data='/content/customer_booking.csv'"
      ],
      "metadata": {
        "id": "YX-_P5lOPLYm"
      },
      "execution_count": 47,
      "outputs": []
    },
    {
      "cell_type": "code",
      "source": [
        "import chardet\n",
        "\n",
        "with open('/content/customer_booking.csv', 'rb') as rawdata: #This opens the file named 'customer_booking.csv' in binary mode ('rb'). The with statement is used here to ensure that the file is properly closed after its suite finishes, even if an exception occurs during the execution. The file object is assigned to the variable rawdata.\n",
        "  result = chardet.detect(rawdata.read(100000)) #This reads the first 100,000 bytes of the file (rawdata.read(100000)), then passes this data to the detect() function from the chardet library. This function analyzes the byte data to determine the most likely character encoding used in the file. The result is stored in the result variable\n",
        "   #he binary data read from the file is passed to the detect() function from the chardet library. This function analyzes the byte data and attempts to determine the most likely character encoding used in the file.\n",
        "print(result)\n"
      ],
      "metadata": {
        "colab": {
          "base_uri": "https://localhost:8080/"
        },
        "id": "ILxXWPrPPQA6",
        "outputId": "2c63fa6d-9c44-43a5-a215-cf88adea3a78"
      },
      "execution_count": 48,
      "outputs": [
        {
          "output_type": "stream",
          "name": "stdout",
          "text": [
            "{'encoding': 'ISO-8859-1', 'confidence': 0.73, 'language': ''}\n"
          ]
        }
      ]
    },
    {
      "cell_type": "code",
      "source": [
        "df=pd.read_csv(data, encoding='ISO-8859-1') #This parameter specifies the character encoding to be used when reading the CSV file. In this case, the character encoding is set to 'ISO-8859-1'. This encoding is commonly used for text files with Western European characters."
      ],
      "metadata": {
        "id": "IvTpLXPDRge8"
      },
      "execution_count": 49,
      "outputs": []
    },
    {
      "cell_type": "code",
      "source": [
        "df.head()"
      ],
      "metadata": {
        "colab": {
          "base_uri": "https://localhost:8080/",
          "height": 226
        },
        "id": "WcCtE9hGTXzs",
        "outputId": "95c87b2e-45de-4ad4-8783-e2fa7085bd54"
      },
      "execution_count": 50,
      "outputs": [
        {
          "output_type": "execute_result",
          "data": {
            "text/plain": [
              "   num_passengers sales_channel  trip_type  purchase_lead  length_of_stay  \\\n",
              "0               2      Internet  RoundTrip            262              19   \n",
              "1               1      Internet  RoundTrip            112              20   \n",
              "2               2      Internet  RoundTrip            243              22   \n",
              "3               1      Internet  RoundTrip             96              31   \n",
              "4               2      Internet  RoundTrip             68              22   \n",
              "\n",
              "   flight_hour flight_day   route booking_origin  wants_extra_baggage  \\\n",
              "0            7        Sat  AKLDEL    New Zealand                    1   \n",
              "1            3        Sat  AKLDEL    New Zealand                    0   \n",
              "2           17        Wed  AKLDEL          India                    1   \n",
              "3            4        Sat  AKLDEL    New Zealand                    0   \n",
              "4           15        Wed  AKLDEL          India                    1   \n",
              "\n",
              "   wants_preferred_seat  wants_in_flight_meals  flight_duration  \\\n",
              "0                     0                      0             5.52   \n",
              "1                     0                      0             5.52   \n",
              "2                     1                      0             5.52   \n",
              "3                     0                      1             5.52   \n",
              "4                     0                      1             5.52   \n",
              "\n",
              "   booking_complete  \n",
              "0                 0  \n",
              "1                 0  \n",
              "2                 0  \n",
              "3                 0  \n",
              "4                 0  "
            ],
            "text/html": [
              "\n",
              "  <div id=\"df-ae9763b6-c003-4226-b224-43e87d519325\" class=\"colab-df-container\">\n",
              "    <div>\n",
              "<style scoped>\n",
              "    .dataframe tbody tr th:only-of-type {\n",
              "        vertical-align: middle;\n",
              "    }\n",
              "\n",
              "    .dataframe tbody tr th {\n",
              "        vertical-align: top;\n",
              "    }\n",
              "\n",
              "    .dataframe thead th {\n",
              "        text-align: right;\n",
              "    }\n",
              "</style>\n",
              "<table border=\"1\" class=\"dataframe\">\n",
              "  <thead>\n",
              "    <tr style=\"text-align: right;\">\n",
              "      <th></th>\n",
              "      <th>num_passengers</th>\n",
              "      <th>sales_channel</th>\n",
              "      <th>trip_type</th>\n",
              "      <th>purchase_lead</th>\n",
              "      <th>length_of_stay</th>\n",
              "      <th>flight_hour</th>\n",
              "      <th>flight_day</th>\n",
              "      <th>route</th>\n",
              "      <th>booking_origin</th>\n",
              "      <th>wants_extra_baggage</th>\n",
              "      <th>wants_preferred_seat</th>\n",
              "      <th>wants_in_flight_meals</th>\n",
              "      <th>flight_duration</th>\n",
              "      <th>booking_complete</th>\n",
              "    </tr>\n",
              "  </thead>\n",
              "  <tbody>\n",
              "    <tr>\n",
              "      <th>0</th>\n",
              "      <td>2</td>\n",
              "      <td>Internet</td>\n",
              "      <td>RoundTrip</td>\n",
              "      <td>262</td>\n",
              "      <td>19</td>\n",
              "      <td>7</td>\n",
              "      <td>Sat</td>\n",
              "      <td>AKLDEL</td>\n",
              "      <td>New Zealand</td>\n",
              "      <td>1</td>\n",
              "      <td>0</td>\n",
              "      <td>0</td>\n",
              "      <td>5.52</td>\n",
              "      <td>0</td>\n",
              "    </tr>\n",
              "    <tr>\n",
              "      <th>1</th>\n",
              "      <td>1</td>\n",
              "      <td>Internet</td>\n",
              "      <td>RoundTrip</td>\n",
              "      <td>112</td>\n",
              "      <td>20</td>\n",
              "      <td>3</td>\n",
              "      <td>Sat</td>\n",
              "      <td>AKLDEL</td>\n",
              "      <td>New Zealand</td>\n",
              "      <td>0</td>\n",
              "      <td>0</td>\n",
              "      <td>0</td>\n",
              "      <td>5.52</td>\n",
              "      <td>0</td>\n",
              "    </tr>\n",
              "    <tr>\n",
              "      <th>2</th>\n",
              "      <td>2</td>\n",
              "      <td>Internet</td>\n",
              "      <td>RoundTrip</td>\n",
              "      <td>243</td>\n",
              "      <td>22</td>\n",
              "      <td>17</td>\n",
              "      <td>Wed</td>\n",
              "      <td>AKLDEL</td>\n",
              "      <td>India</td>\n",
              "      <td>1</td>\n",
              "      <td>1</td>\n",
              "      <td>0</td>\n",
              "      <td>5.52</td>\n",
              "      <td>0</td>\n",
              "    </tr>\n",
              "    <tr>\n",
              "      <th>3</th>\n",
              "      <td>1</td>\n",
              "      <td>Internet</td>\n",
              "      <td>RoundTrip</td>\n",
              "      <td>96</td>\n",
              "      <td>31</td>\n",
              "      <td>4</td>\n",
              "      <td>Sat</td>\n",
              "      <td>AKLDEL</td>\n",
              "      <td>New Zealand</td>\n",
              "      <td>0</td>\n",
              "      <td>0</td>\n",
              "      <td>1</td>\n",
              "      <td>5.52</td>\n",
              "      <td>0</td>\n",
              "    </tr>\n",
              "    <tr>\n",
              "      <th>4</th>\n",
              "      <td>2</td>\n",
              "      <td>Internet</td>\n",
              "      <td>RoundTrip</td>\n",
              "      <td>68</td>\n",
              "      <td>22</td>\n",
              "      <td>15</td>\n",
              "      <td>Wed</td>\n",
              "      <td>AKLDEL</td>\n",
              "      <td>India</td>\n",
              "      <td>1</td>\n",
              "      <td>0</td>\n",
              "      <td>1</td>\n",
              "      <td>5.52</td>\n",
              "      <td>0</td>\n",
              "    </tr>\n",
              "  </tbody>\n",
              "</table>\n",
              "</div>\n",
              "    <div class=\"colab-df-buttons\">\n",
              "\n",
              "  <div class=\"colab-df-container\">\n",
              "    <button class=\"colab-df-convert\" onclick=\"convertToInteractive('df-ae9763b6-c003-4226-b224-43e87d519325')\"\n",
              "            title=\"Convert this dataframe to an interactive table.\"\n",
              "            style=\"display:none;\">\n",
              "\n",
              "  <svg xmlns=\"http://www.w3.org/2000/svg\" height=\"24px\" viewBox=\"0 -960 960 960\">\n",
              "    <path d=\"M120-120v-720h720v720H120Zm60-500h600v-160H180v160Zm220 220h160v-160H400v160Zm0 220h160v-160H400v160ZM180-400h160v-160H180v160Zm440 0h160v-160H620v160ZM180-180h160v-160H180v160Zm440 0h160v-160H620v160Z\"/>\n",
              "  </svg>\n",
              "    </button>\n",
              "\n",
              "  <style>\n",
              "    .colab-df-container {\n",
              "      display:flex;\n",
              "      gap: 12px;\n",
              "    }\n",
              "\n",
              "    .colab-df-convert {\n",
              "      background-color: #E8F0FE;\n",
              "      border: none;\n",
              "      border-radius: 50%;\n",
              "      cursor: pointer;\n",
              "      display: none;\n",
              "      fill: #1967D2;\n",
              "      height: 32px;\n",
              "      padding: 0 0 0 0;\n",
              "      width: 32px;\n",
              "    }\n",
              "\n",
              "    .colab-df-convert:hover {\n",
              "      background-color: #E2EBFA;\n",
              "      box-shadow: 0px 1px 2px rgba(60, 64, 67, 0.3), 0px 1px 3px 1px rgba(60, 64, 67, 0.15);\n",
              "      fill: #174EA6;\n",
              "    }\n",
              "\n",
              "    .colab-df-buttons div {\n",
              "      margin-bottom: 4px;\n",
              "    }\n",
              "\n",
              "    [theme=dark] .colab-df-convert {\n",
              "      background-color: #3B4455;\n",
              "      fill: #D2E3FC;\n",
              "    }\n",
              "\n",
              "    [theme=dark] .colab-df-convert:hover {\n",
              "      background-color: #434B5C;\n",
              "      box-shadow: 0px 1px 3px 1px rgba(0, 0, 0, 0.15);\n",
              "      filter: drop-shadow(0px 1px 2px rgba(0, 0, 0, 0.3));\n",
              "      fill: #FFFFFF;\n",
              "    }\n",
              "  </style>\n",
              "\n",
              "    <script>\n",
              "      const buttonEl =\n",
              "        document.querySelector('#df-ae9763b6-c003-4226-b224-43e87d519325 button.colab-df-convert');\n",
              "      buttonEl.style.display =\n",
              "        google.colab.kernel.accessAllowed ? 'block' : 'none';\n",
              "\n",
              "      async function convertToInteractive(key) {\n",
              "        const element = document.querySelector('#df-ae9763b6-c003-4226-b224-43e87d519325');\n",
              "        const dataTable =\n",
              "          await google.colab.kernel.invokeFunction('convertToInteractive',\n",
              "                                                    [key], {});\n",
              "        if (!dataTable) return;\n",
              "\n",
              "        const docLinkHtml = 'Like what you see? Visit the ' +\n",
              "          '<a target=\"_blank\" href=https://colab.research.google.com/notebooks/data_table.ipynb>data table notebook</a>'\n",
              "          + ' to learn more about interactive tables.';\n",
              "        element.innerHTML = '';\n",
              "        dataTable['output_type'] = 'display_data';\n",
              "        await google.colab.output.renderOutput(dataTable, element);\n",
              "        const docLink = document.createElement('div');\n",
              "        docLink.innerHTML = docLinkHtml;\n",
              "        element.appendChild(docLink);\n",
              "      }\n",
              "    </script>\n",
              "  </div>\n",
              "\n",
              "\n",
              "<div id=\"df-cc828fe4-15af-40f8-907e-0979b0e8336a\">\n",
              "  <button class=\"colab-df-quickchart\" onclick=\"quickchart('df-cc828fe4-15af-40f8-907e-0979b0e8336a')\"\n",
              "            title=\"Suggest charts\"\n",
              "            style=\"display:none;\">\n",
              "\n",
              "<svg xmlns=\"http://www.w3.org/2000/svg\" height=\"24px\"viewBox=\"0 0 24 24\"\n",
              "     width=\"24px\">\n",
              "    <g>\n",
              "        <path d=\"M19 3H5c-1.1 0-2 .9-2 2v14c0 1.1.9 2 2 2h14c1.1 0 2-.9 2-2V5c0-1.1-.9-2-2-2zM9 17H7v-7h2v7zm4 0h-2V7h2v10zm4 0h-2v-4h2v4z\"/>\n",
              "    </g>\n",
              "</svg>\n",
              "  </button>\n",
              "\n",
              "<style>\n",
              "  .colab-df-quickchart {\n",
              "      --bg-color: #E8F0FE;\n",
              "      --fill-color: #1967D2;\n",
              "      --hover-bg-color: #E2EBFA;\n",
              "      --hover-fill-color: #174EA6;\n",
              "      --disabled-fill-color: #AAA;\n",
              "      --disabled-bg-color: #DDD;\n",
              "  }\n",
              "\n",
              "  [theme=dark] .colab-df-quickchart {\n",
              "      --bg-color: #3B4455;\n",
              "      --fill-color: #D2E3FC;\n",
              "      --hover-bg-color: #434B5C;\n",
              "      --hover-fill-color: #FFFFFF;\n",
              "      --disabled-bg-color: #3B4455;\n",
              "      --disabled-fill-color: #666;\n",
              "  }\n",
              "\n",
              "  .colab-df-quickchart {\n",
              "    background-color: var(--bg-color);\n",
              "    border: none;\n",
              "    border-radius: 50%;\n",
              "    cursor: pointer;\n",
              "    display: none;\n",
              "    fill: var(--fill-color);\n",
              "    height: 32px;\n",
              "    padding: 0;\n",
              "    width: 32px;\n",
              "  }\n",
              "\n",
              "  .colab-df-quickchart:hover {\n",
              "    background-color: var(--hover-bg-color);\n",
              "    box-shadow: 0 1px 2px rgba(60, 64, 67, 0.3), 0 1px 3px 1px rgba(60, 64, 67, 0.15);\n",
              "    fill: var(--button-hover-fill-color);\n",
              "  }\n",
              "\n",
              "  .colab-df-quickchart-complete:disabled,\n",
              "  .colab-df-quickchart-complete:disabled:hover {\n",
              "    background-color: var(--disabled-bg-color);\n",
              "    fill: var(--disabled-fill-color);\n",
              "    box-shadow: none;\n",
              "  }\n",
              "\n",
              "  .colab-df-spinner {\n",
              "    border: 2px solid var(--fill-color);\n",
              "    border-color: transparent;\n",
              "    border-bottom-color: var(--fill-color);\n",
              "    animation:\n",
              "      spin 1s steps(1) infinite;\n",
              "  }\n",
              "\n",
              "  @keyframes spin {\n",
              "    0% {\n",
              "      border-color: transparent;\n",
              "      border-bottom-color: var(--fill-color);\n",
              "      border-left-color: var(--fill-color);\n",
              "    }\n",
              "    20% {\n",
              "      border-color: transparent;\n",
              "      border-left-color: var(--fill-color);\n",
              "      border-top-color: var(--fill-color);\n",
              "    }\n",
              "    30% {\n",
              "      border-color: transparent;\n",
              "      border-left-color: var(--fill-color);\n",
              "      border-top-color: var(--fill-color);\n",
              "      border-right-color: var(--fill-color);\n",
              "    }\n",
              "    40% {\n",
              "      border-color: transparent;\n",
              "      border-right-color: var(--fill-color);\n",
              "      border-top-color: var(--fill-color);\n",
              "    }\n",
              "    60% {\n",
              "      border-color: transparent;\n",
              "      border-right-color: var(--fill-color);\n",
              "    }\n",
              "    80% {\n",
              "      border-color: transparent;\n",
              "      border-right-color: var(--fill-color);\n",
              "      border-bottom-color: var(--fill-color);\n",
              "    }\n",
              "    90% {\n",
              "      border-color: transparent;\n",
              "      border-bottom-color: var(--fill-color);\n",
              "    }\n",
              "  }\n",
              "</style>\n",
              "\n",
              "  <script>\n",
              "    async function quickchart(key) {\n",
              "      const quickchartButtonEl =\n",
              "        document.querySelector('#' + key + ' button');\n",
              "      quickchartButtonEl.disabled = true;  // To prevent multiple clicks.\n",
              "      quickchartButtonEl.classList.add('colab-df-spinner');\n",
              "      try {\n",
              "        const charts = await google.colab.kernel.invokeFunction(\n",
              "            'suggestCharts', [key], {});\n",
              "      } catch (error) {\n",
              "        console.error('Error during call to suggestCharts:', error);\n",
              "      }\n",
              "      quickchartButtonEl.classList.remove('colab-df-spinner');\n",
              "      quickchartButtonEl.classList.add('colab-df-quickchart-complete');\n",
              "    }\n",
              "    (() => {\n",
              "      let quickchartButtonEl =\n",
              "        document.querySelector('#df-cc828fe4-15af-40f8-907e-0979b0e8336a button');\n",
              "      quickchartButtonEl.style.display =\n",
              "        google.colab.kernel.accessAllowed ? 'block' : 'none';\n",
              "    })();\n",
              "  </script>\n",
              "</div>\n",
              "\n",
              "    </div>\n",
              "  </div>\n"
            ],
            "application/vnd.google.colaboratory.intrinsic+json": {
              "type": "dataframe",
              "variable_name": "df",
              "summary": "{\n  \"name\": \"df\",\n  \"rows\": 50000,\n  \"fields\": [\n    {\n      \"column\": \"num_passengers\",\n      \"properties\": {\n        \"dtype\": \"number\",\n        \"std\": 1,\n        \"min\": 1,\n        \"max\": 9,\n        \"samples\": [\n          9,\n          1,\n          5\n        ],\n        \"num_unique_values\": 9,\n        \"semantic_type\": \"\",\n        \"description\": \"\"\n      }\n    },\n    {\n      \"column\": \"sales_channel\",\n      \"properties\": {\n        \"dtype\": \"category\",\n        \"samples\": [\n          \"Mobile\",\n          \"Internet\"\n        ],\n        \"num_unique_values\": 2,\n        \"semantic_type\": \"\",\n        \"description\": \"\"\n      }\n    },\n    {\n      \"column\": \"trip_type\",\n      \"properties\": {\n        \"dtype\": \"category\",\n        \"samples\": [\n          \"RoundTrip\",\n          \"CircleTrip\"\n        ],\n        \"num_unique_values\": 3,\n        \"semantic_type\": \"\",\n        \"description\": \"\"\n      }\n    },\n    {\n      \"column\": \"purchase_lead\",\n      \"properties\": {\n        \"dtype\": \"number\",\n        \"std\": 90,\n        \"min\": 0,\n        \"max\": 867,\n        \"samples\": [\n          102,\n          63\n        ],\n        \"num_unique_values\": 470,\n        \"semantic_type\": \"\",\n        \"description\": \"\"\n      }\n    },\n    {\n      \"column\": \"length_of_stay\",\n      \"properties\": {\n        \"dtype\": \"number\",\n        \"std\": 33,\n        \"min\": 0,\n        \"max\": 778,\n        \"samples\": [\n          23,\n          184\n        ],\n        \"num_unique_values\": 335,\n        \"semantic_type\": \"\",\n        \"description\": \"\"\n      }\n    },\n    {\n      \"column\": \"flight_hour\",\n      \"properties\": {\n        \"dtype\": \"number\",\n        \"std\": 5,\n        \"min\": 0,\n        \"max\": 23,\n        \"samples\": [\n          12,\n          11\n        ],\n        \"num_unique_values\": 24,\n        \"semantic_type\": \"\",\n        \"description\": \"\"\n      }\n    },\n    {\n      \"column\": \"flight_day\",\n      \"properties\": {\n        \"dtype\": \"category\",\n        \"samples\": [\n          \"Sat\",\n          \"Wed\"\n        ],\n        \"num_unique_values\": 7,\n        \"semantic_type\": \"\",\n        \"description\": \"\"\n      }\n    },\n    {\n      \"column\": \"route\",\n      \"properties\": {\n        \"dtype\": \"category\",\n        \"samples\": [\n          \"SYDTPE\",\n          \"PUSSYD\"\n        ],\n        \"num_unique_values\": 799,\n        \"semantic_type\": \"\",\n        \"description\": \"\"\n      }\n    },\n    {\n      \"column\": \"booking_origin\",\n      \"properties\": {\n        \"dtype\": \"category\",\n        \"samples\": [\n          \"Croatia\",\n          \"Jordan\"\n        ],\n        \"num_unique_values\": 104,\n        \"semantic_type\": \"\",\n        \"description\": \"\"\n      }\n    },\n    {\n      \"column\": \"wants_extra_baggage\",\n      \"properties\": {\n        \"dtype\": \"number\",\n        \"std\": 0,\n        \"min\": 0,\n        \"max\": 1,\n        \"samples\": [\n          0,\n          1\n        ],\n        \"num_unique_values\": 2,\n        \"semantic_type\": \"\",\n        \"description\": \"\"\n      }\n    },\n    {\n      \"column\": \"wants_preferred_seat\",\n      \"properties\": {\n        \"dtype\": \"number\",\n        \"std\": 0,\n        \"min\": 0,\n        \"max\": 1,\n        \"samples\": [\n          1,\n          0\n        ],\n        \"num_unique_values\": 2,\n        \"semantic_type\": \"\",\n        \"description\": \"\"\n      }\n    },\n    {\n      \"column\": \"wants_in_flight_meals\",\n      \"properties\": {\n        \"dtype\": \"number\",\n        \"std\": 0,\n        \"min\": 0,\n        \"max\": 1,\n        \"samples\": [\n          1,\n          0\n        ],\n        \"num_unique_values\": 2,\n        \"semantic_type\": \"\",\n        \"description\": \"\"\n      }\n    },\n    {\n      \"column\": \"flight_duration\",\n      \"properties\": {\n        \"dtype\": \"number\",\n        \"std\": 1.496862916327065,\n        \"min\": 4.67,\n        \"max\": 9.5,\n        \"samples\": [\n          5.52,\n          5.0\n        ],\n        \"num_unique_values\": 21,\n        \"semantic_type\": \"\",\n        \"description\": \"\"\n      }\n    },\n    {\n      \"column\": \"booking_complete\",\n      \"properties\": {\n        \"dtype\": \"number\",\n        \"std\": 0,\n        \"min\": 0,\n        \"max\": 1,\n        \"samples\": [\n          1,\n          0\n        ],\n        \"num_unique_values\": 2,\n        \"semantic_type\": \"\",\n        \"description\": \"\"\n      }\n    }\n  ]\n}"
            }
          },
          "metadata": {},
          "execution_count": 50
        }
      ]
    },
    {
      "cell_type": "markdown",
      "source": [
        "EXPLORATORY DATA ANALYSIS"
      ],
      "metadata": {
        "id": "fzUsPU_SZln2"
      }
    },
    {
      "cell_type": "code",
      "source": [
        "df.dtypes"
      ],
      "metadata": {
        "colab": {
          "base_uri": "https://localhost:8080/"
        },
        "id": "_0AE_nLOTa7J",
        "outputId": "1f23c71b-d9fa-4887-84ee-e0735a11a506"
      },
      "execution_count": 51,
      "outputs": [
        {
          "output_type": "execute_result",
          "data": {
            "text/plain": [
              "num_passengers             int64\n",
              "sales_channel             object\n",
              "trip_type                 object\n",
              "purchase_lead              int64\n",
              "length_of_stay             int64\n",
              "flight_hour                int64\n",
              "flight_day                object\n",
              "route                     object\n",
              "booking_origin            object\n",
              "wants_extra_baggage        int64\n",
              "wants_preferred_seat       int64\n",
              "wants_in_flight_meals      int64\n",
              "flight_duration          float64\n",
              "booking_complete           int64\n",
              "dtype: object"
            ]
          },
          "metadata": {},
          "execution_count": 51
        }
      ]
    },
    {
      "cell_type": "code",
      "source": [
        "df.shape"
      ],
      "metadata": {
        "colab": {
          "base_uri": "https://localhost:8080/"
        },
        "id": "8Kq9x8e3cQDK",
        "outputId": "0d584990-7913-464a-dcf5-9688c9bdc32d"
      },
      "execution_count": 52,
      "outputs": [
        {
          "output_type": "execute_result",
          "data": {
            "text/plain": [
              "(50000, 14)"
            ]
          },
          "metadata": {},
          "execution_count": 52
        }
      ]
    },
    {
      "cell_type": "code",
      "source": [
        "df.isnull().sum()"
      ],
      "metadata": {
        "colab": {
          "base_uri": "https://localhost:8080/"
        },
        "id": "KCEP5EI-cTs0",
        "outputId": "1d78ffca-9b1c-4bb2-b746-01b3a22a9d2c"
      },
      "execution_count": 53,
      "outputs": [
        {
          "output_type": "execute_result",
          "data": {
            "text/plain": [
              "num_passengers           0\n",
              "sales_channel            0\n",
              "trip_type                0\n",
              "purchase_lead            0\n",
              "length_of_stay           0\n",
              "flight_hour              0\n",
              "flight_day               0\n",
              "route                    0\n",
              "booking_origin           0\n",
              "wants_extra_baggage      0\n",
              "wants_preferred_seat     0\n",
              "wants_in_flight_meals    0\n",
              "flight_duration          0\n",
              "booking_complete         0\n",
              "dtype: int64"
            ]
          },
          "metadata": {},
          "execution_count": 53
        }
      ]
    },
    {
      "cell_type": "code",
      "source": [
        "df.booking_complete.value_counts()"
      ],
      "metadata": {
        "colab": {
          "base_uri": "https://localhost:8080/"
        },
        "id": "eTsJVYxTcikj",
        "outputId": "8a21ac8f-fced-4c0d-df41-f08f01fd3bf7"
      },
      "execution_count": 54,
      "outputs": [
        {
          "output_type": "execute_result",
          "data": {
            "text/plain": [
              "0    42522\n",
              "1     7478\n",
              "Name: booking_complete, dtype: int64"
            ]
          },
          "metadata": {},
          "execution_count": 54
        }
      ]
    },
    {
      "cell_type": "markdown",
      "source": [
        "Mutual Information"
      ],
      "metadata": {
        "id": "i6qyA9k-Zryc"
      }
    },
    {
      "cell_type": "code",
      "source": [
        "X=df.drop('booking_complete',axis=1)\n",
        "y=df.booking_complete\n",
        "\n",
        "\n",
        "for colname in X.select_dtypes(\"object\"): #Iterate over each column in X that has data type 'object' (categorical variables)\n",
        "  X[colname], _= X[colname].factorize() #For each categorical column, it uses the factorize() method to encode the categorical values into numeric labels. The factorize() method assigns a unique integer to each unique categorical value in the column."
      ],
      "metadata": {
        "id": "kZnOvObPcyma"
      },
      "execution_count": 55,
      "outputs": []
    },
    {
      "cell_type": "code",
      "source": [
        "from sklearn.feature_selection import mutual_info_classif\n",
        "\n",
        "mi_scores=mutual_info_classif(X,y) #We calculate the mutual information scores (mi_scores) using mutual_info_classif(X, y), where X is the feature matrix and y is the target variable.\n",
        "mi_scores=pd.Series(mi_scores, name=\"MI Scores\",index=X.columns) #index=X.columns assigns the column names of DataFrame X as the index of the Series. This means each value in the Series will be associated with the corresponding column name from X.\n",
        "mi_scores=mi_scores.sort_values(ascending=False)\n",
        "\n",
        "mi_scores"
      ],
      "metadata": {
        "colab": {
          "base_uri": "https://localhost:8080/"
        },
        "id": "VQTowq1fdyi6",
        "outputId": "52975dca-1a18-475e-b8ff-05e05d97ff4d"
      },
      "execution_count": 56,
      "outputs": [
        {
          "output_type": "execute_result",
          "data": {
            "text/plain": [
              "route                    0.056061\n",
              "booking_origin           0.046361\n",
              "flight_duration          0.016861\n",
              "wants_extra_baggage      0.011167\n",
              "length_of_stay           0.006521\n",
              "wants_in_flight_meals    0.004561\n",
              "wants_preferred_seat     0.003743\n",
              "sales_channel            0.002216\n",
              "flight_hour              0.002098\n",
              "trip_type                0.002018\n",
              "num_passengers           0.001457\n",
              "purchase_lead            0.000995\n",
              "flight_day               0.000000\n",
              "Name: MI Scores, dtype: float64"
            ]
          },
          "metadata": {},
          "execution_count": 56
        }
      ]
    },
    {
      "cell_type": "code",
      "source": [
        "def plot_mi_scores(scores):\n",
        "  scores=scores.sort_values(ascending=True)\n",
        "  width=np.arange(len(scores))\n",
        "  ticks=list(scores.index)\n",
        "  plt.barh(width,scores)\n",
        "  plt.yticks(width,ticks)\n",
        "  plt.title(\"Mutual Information Scores\")\n",
        "\n",
        "plt.figure(dpi=100,figsize=(8,5))\n",
        "plot_mi_scores(mi_scores)"
      ],
      "metadata": {
        "colab": {
          "base_uri": "https://localhost:8080/",
          "height": 468
        },
        "id": "vyCbZxSSdcdi",
        "outputId": "aca03645-ffa6-4443-d1a4-807194035698"
      },
      "execution_count": 57,
      "outputs": [
        {
          "output_type": "display_data",
          "data": {
            "text/plain": [
              "<Figure size 800x500 with 1 Axes>"
            ],
            "image/png": "[encoded data removed]"
          },
          "metadata": {}
        }
      ]
    },
    {
      "cell_type": "code",
      "source": [
        "from sklearn.model_selection import train_test_split\n",
        "\n",
        "def dataset(X,y):\n",
        " train_full_X,val_X,train_full_y,val_y=train_test_split(X,y,test_size=0.2,random_state=0) #This line splits the dataset into a full training set (train_full_X, train_full_y) and a validation set (val_X, val_y).\n",
        "\n",
        " train_X, test_X, train_y, test_y=train_test_split(train_full_X,train_full_y,test_size=0.2,random_state=0)#This line further splits the full training set into a smaller training set (train_X, train_y) and a testing set (test_X, test_y).\n",
        "\n",
        " return (train_X, val_X, train_y, val_y, test_X, test_y)\n",
        " #This line returns the training and validation sets from the function"
      ],
      "metadata": {
        "id": "wCetyqIMoetV"
      },
      "execution_count": 58,
      "outputs": []
    },
    {
      "cell_type": "code",
      "source": [
        "from sklearn.preprocessing import MinMaxScaler\n",
        "\n",
        "def scale(X):\n",
        "  scaler=MinMaxScaler()\n",
        "  scaler.fit(X)\n",
        "  return X"
      ],
      "metadata": {
        "id": "Ax-Z-GvCvTHC"
      },
      "execution_count": 59,
      "outputs": []
    },
    {
      "cell_type": "markdown",
      "source": [
        "# Model 1: Random Forest Classifier with top 6 features"
      ],
      "metadata": {
        "id": "GKnHGFEAxciP"
      }
    },
    {
      "cell_type": "code",
      "source": [
        "from sklearn.metrics import roc_auc_score\n",
        "from sklearn.metrics import accuracy_score\n",
        "from sklearn.ensemble import RandomForestClassifier\n",
        "\n",
        "\n",
        "features=['route','booking_origin','flight_duration','wants_extra_baggage', 'length_of_stay','num_passengers']\n",
        "X= df[features]\n",
        "#one hot encoding\n",
        "X=pd.get_dummies(X,columns=features) #For each identified categorical feature, the function creates a set of binary dummy variables (0s and 1s), one for each unique category in that feature.\n",
        "#This means that only the specified features will be one-hot encoded, while the other features in the DataFrame will remain unchanged.\n",
        "X=scale(X)\n",
        "y=df.booking_complete\n",
        "\n",
        "X_train,X_val,y_train,y_val,X_test,y_test=dataset(X,y)\n",
        "\n",
        "forest_model=RandomForestClassifier(random_state=1)\n",
        "forest_model.fit(X_train,y_train)\n",
        "\n",
        "# Predictions on validation set\n",
        "preds_val=forest_model.predict(X_val)\n",
        "\n",
        "# Evaluation on validation set\n",
        "print('VAL_ACCURACY:',accuracy_score(y_val,preds_val)*100)\n",
        "print('VAL_ROC_AUC score:',roc_auc_score(y_val,preds_val))\n",
        "\n",
        "# Predictions on test set\n",
        "preds_test=forest_model.predict(X_test)\n",
        "\n",
        "# Evaluation on test set\n",
        "print('TEST_ACCURACY:',accuracy_score(y_test,preds_test)*100)\n",
        "print('TEST_ROC_AUC_Score:',roc_auc_score(y_test,preds_test))"
      ],
      "metadata": {
        "colab": {
          "base_uri": "https://localhost:8080/"
        },
        "id": "ydolIu5yxYlo",
        "outputId": "2f8c8bd2-e2d9-458a-b881-730b839b6ea8"
      },
      "execution_count": 60,
      "outputs": [
        {
          "output_type": "stream",
          "name": "stdout",
          "text": [
            "VAL_ACCURACY: 83.47\n",
            "VAL_ROC_AUC score: 0.5675161132484338\n",
            "TEST_ACCURACY: 83.0125\n",
            "TEST_ROC_AUC_Score: 0.5616868676716431\n"
          ]
        }
      ]
    },
    {
      "cell_type": "markdown",
      "source": [
        "\n",
        "\n",
        "\n",
        "# Model 2 : Random forest classifier with all features\n"
      ],
      "metadata": {
        "id": "e980jHrJQmkj"
      }
    },
    {
      "cell_type": "code",
      "source": [
        "X=df.drop('booking_complete',axis=1)\n",
        "#one_hot_encoding\n",
        "X=pd.get_dummies(X)#using the entire DataFrame df without specifying any particular features. When you apply pd.get_dummies(X) without specifying columns,\n",
        "#it will perform one-hot encoding on all categorical columns present in the dataFrame X. This approach is useful when you want to one-hot encode all categorical features in the DataFrame without specifying each feature individually.\n",
        "X=scale(X)\n",
        "y=df.booking_complete\n",
        "\n",
        "X_train,X_val,y_train,y_val,X_test,y_test=dataset(X,y)\n",
        "\n",
        "forest_model=RandomForestClassifier(random_state=1)\n",
        "forest_model.fit(X_train,y_train)\n",
        "\n",
        "# Predictions on validation set\n",
        "preds_val=forest_model.predict(X_val)\n",
        "\n",
        "# Evaluation on validation set\n",
        "print('VAL_ACCURACY:',accuracy_score(y_val,preds_val)*100)\n",
        "print('TEST_AUC score:',roc_auc_score(y_val,preds_val))\n",
        "\n",
        "# Predictions on test set\n",
        "preds_test=forest_model.predict(X_test)\n",
        "\n",
        "# Evaluation on test set\n",
        "print('VAL_ACCURACY:',accuracy_score(y_test,preds_test)*100)\n",
        "print('TEST_ROC_AUC_Score:',roc_auc_score(y_test,preds_test))\n"
      ],
      "metadata": {
        "colab": {
          "base_uri": "https://localhost:8080/"
        },
        "id": "yiXl6_23Ip4a",
        "outputId": "5f5bde93-cc48-41f4-a64a-d9402022589a"
      },
      "execution_count": 61,
      "outputs": [
        {
          "output_type": "stream",
          "name": "stdout",
          "text": [
            "VAL_ACCURACY: 84.93\n",
            "TEST_AUC score: 0.552220607840723\n",
            "VAL_ACCURACY: 84.6\n",
            "TEST_ROC_AUC_Score: 0.5477099134714314\n"
          ]
        }
      ]
    },
    {
      "cell_type": "markdown",
      "source": [
        "# Model 3 : XGB classifier with top 6 features"
      ],
      "metadata": {
        "id": "-qUWK1NeZ0f8"
      }
    },
    {
      "cell_type": "code",
      "source": [
        "from xgboost import XGBClassifier\n",
        "\n",
        "features=['route','booking_origin','flight_duration','wants_extra_baggage', 'length_of_stay','num_passengers']\n",
        "\n",
        "X=df[features]\n",
        "\n",
        "#one hot encoding\n",
        "X=pd.get_dummies(X, columns=features)\n",
        "X=scale(X)\n",
        "\n",
        "y=df.booking_complete\n",
        "\n",
        "X_train,X_val,y_train,y_val,X_test,y_test=dataset(X,y)\n",
        "\n",
        "xgb_model=XGBClassifier()\n",
        "xgb_model.fit(X_train,y_train)\n",
        "\n",
        "\n",
        "# Predictions on validation set\n",
        "preds_val_xgb=xgb_model.predict(X_val)\n",
        "\n",
        "# Evaluation on validation set\n",
        "print('VAK_ACCURACY:',accuracy_score(y_val,preds_val_xgb)*100)\n",
        "print('VAL_AUC score:',roc_auc_score(y_val,preds_val_xgb))\n",
        "\n",
        "# Predictions on test set\n",
        "preds_test_xgb=xgb_model.predict(X_test)\n",
        "\n",
        "# Evaluation on test set\n",
        "print('TEST_ACCURACY:',accuracy_score(y_test,preds_test_xgb)*100)\n",
        "print('TEST_ROC_AUC_Score:',roc_auc_score(y_test,preds_test_xgb))\n"
      ],
      "metadata": {
        "colab": {
          "base_uri": "https://localhost:8080/"
        },
        "id": "yBvzfCcJRKFR",
        "outputId": "41192154-a55d-4573-fc9b-138f899f4a65"
      },
      "execution_count": 62,
      "outputs": [
        {
          "output_type": "stream",
          "name": "stdout",
          "text": [
            "VAK_ACCURACY: 84.78999999999999\n",
            "VAL_AUC score: 0.5198953634698564\n",
            "TEST_ACCURACY: 84.78750000000001\n",
            "TEST_ROC_AUC_Score: 0.5217606895871965\n"
          ]
        }
      ]
    },
    {
      "cell_type": "markdown",
      "source": [
        "# Model 4 : XGB classifier with all features"
      ],
      "metadata": {
        "id": "hge5NfxeaOMK"
      }
    },
    {
      "cell_type": "code",
      "source": [
        "from xgboost import XGBClassifier\n",
        "\n",
        "\n",
        "#one hot encoding\n",
        "X=pd.get_dummies(X)\n",
        "X=scale(X)\n",
        "\n",
        "y=df.booking_complete\n",
        "\n",
        "X_train,X_val,y_train,y_val,X_test,y_test=dataset(X,y)\n",
        "\n",
        "xgb_model=XGBClassifier()\n",
        "xgb_model.fit(X_train,y_train)\n",
        "\n",
        "\n",
        "# Predictions on validation set\n",
        "preds_val_xgb=xgb_model.predict(X_val)\n",
        "\n",
        "# Evaluation on validation set\n",
        "print('VAK_ACCURACY:',accuracy_score(y_val,preds_val_xgb)*100)\n",
        "print('VAL_AUC score:',roc_auc_score(y_val,preds_val_xgb))\n",
        "\n",
        "# Predictions on test set\n",
        "preds_test_xgb=xgb_model.predict(X_test)\n",
        "\n",
        "# Evaluation on test set\n",
        "print('TEST_ACCURACY:',accuracy_score(y_test,preds_test_xgb)*100)\n",
        "print('TEST_ROC_AUC_Score:',roc_auc_score(y_test,preds_test_xgb))"
      ],
      "metadata": {
        "colab": {
          "base_uri": "https://localhost:8080/"
        },
        "id": "tpCdDI2UZ-B4",
        "outputId": "4e683596-d18e-4a9a-a87d-7c73bb3687b0"
      },
      "execution_count": 65,
      "outputs": [
        {
          "output_type": "stream",
          "name": "stdout",
          "text": [
            "VAK_ACCURACY: 85.05\n",
            "VAL_AUC score: 0.5458671249547634\n",
            "TEST_ACCURACY: 84.5\n",
            "TEST_ROC_AUC_Score: 0.535622327390776\n"
          ]
        }
      ]
    },
    {
      "cell_type": "markdown",
      "source": [
        "Finalizing random forest model with all features as final model, as it has the accuracy and higher auc score compared to other models Validating with test data set"
      ],
      "metadata": {
        "id": "hd3gMHbeXH0q"
      }
    },
    {
      "cell_type": "code",
      "source": [
        "X=df.drop('booking_complete',axis=1)\n",
        "#one_hot_encoding\n",
        "X=pd.get_dummies(X)#using the entire DataFrame df without specifying any particular features. When you apply pd.get_dummies(X) without specifying columns,\n",
        "#it will perform one-hot encoding on all categorical columns present in the dataFrame X. This approach is useful when you want to one-hot encode all categorical features in the DataFrame without specifying each feature individually.\n",
        "X=scale(X)\n",
        "y=df.booking_complete\n",
        "\n",
        "X_train,X_val,y_train,y_val,X_test,y_test=dataset(X,y)\n",
        "\n",
        "forest_model=RandomForestClassifier(random_state=1)\n",
        "forest_model.fit(X_train,y_train)\n",
        "\n",
        "\n",
        "# Predictions on test set\n",
        "preds_test=forest_model.predict(X_test)\n",
        "\n",
        "# Evaluation on test set\n",
        "print('VAL_ACCURACY:',accuracy_score(y_test,preds_test)*100)\n",
        "print('TEST_ROC_AUC_Score:',roc_auc_score(y_test,preds_test))"
      ],
      "metadata": {
        "colab": {
          "base_uri": "https://localhost:8080/"
        },
        "id": "vyImdEIoYukT",
        "outputId": "4ce871a3-c239-4283-bcd4-c20b28de6692"
      },
      "execution_count": 63,
      "outputs": [
        {
          "output_type": "stream",
          "name": "stdout",
          "text": [
            "VAL_ACCURACY: 84.6\n",
            "TEST_ROC_AUC_Score: 0.5477099134714314\n"
          ]
        }
      ]
    },
    {
      "cell_type": "markdown",
      "source": [],
      "metadata": {
        "id": "rw2kmH9vXHID"
      }
    }
  ]
}